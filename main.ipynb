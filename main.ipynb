{
 "cells": [
  {
   "cell_type": "markdown",
   "id": "9fee5ee9",
   "metadata": {},
   "source": [
    "# Examen Parcial n°1 2da Parte - TLP3 - Python para Ciencia de Datos.\n"
   ]
  },
  {
   "cell_type": "markdown",
   "id": "999099d0",
   "metadata": {},
   "source": [
    "**A partir del datasets brindado, realizar los siguientes procedimientos:**\n",
    "\n",
    "* Importar datasets con Pandas.\n",
    "* Explorar los datos con los metodos correspondientes. \n",
    "* Limpieza de los datos (Normalización de datos).\n",
    "* Obtener estadisticas.\n",
    "* Mostrar los datos procesados con graficos utilizando la libreria Matplotlib.\n",
    "* Exportar el contenido a un archivo sqlite utilizando PANDAS.\n",
    "\n",
    "\n",
    "**Importante: Se debe documentar cada procedimiento realizado, siguiendo la siguiente estructura:**\n",
    "\n",
    "1. Celda de Markdown (Documentación)\n",
    "2. Código (Sin comentarios, se debe documentar lo sufiente solo en la celda de markdown).\n",
    "\n",
    "\n",
    "### Criterios de Evaluación:\n",
    "\n",
    "1. No esta permitido el uso de IAs durante el examen. (Desactivar Copilot o cualquier herramienta de IA para autocompletar codigo.)\n",
    "\n",
    "2. Se deben utilizar nombres de variables descriptivos y claros (Utilizar la nomeclatura correspondiente para los nombres de variables).\n",
    "\n",
    "3. Comentarios claros y concisos que expliquen el propósito de cada sección del código en una celda de markdown antes del código.\n",
    "\n",
    "4. Utilizar mensajes de commit descriptivos. (Puedes utilizar la extension CONVENTIONAL COMMIT de VS-CODE).\n",
    "\n",
    "5. Entrega en tiempo y forma (Parciales entregados fuera de hora o con commits pasados el horario de entrega quedará invalidado.)\n",
    "\n",
    "6. Todo el código desarrollado debe ser subido a un repositorio en GitHub (el nombre del repositorio de seguir la siguiente estructura: \n",
    "**parcial1_tlp3_nombre_apellido**).\n",
    "\n",
    "7. Para resolver las actividades se debe insertar casillas de codigo entre cada actividad del cuaderno de Jupyter.\n",
    "\n",
    "8. Deben trabajar con el datasets adjunto.\n",
    "\n",
    "9. Una vez finalizado el examen, los resultados deben quedar guardados debajo de cada celda (NO EJECUTAR LA OPCIÓN \"borrar todas las salidas\").\n",
    "\n",
    "**Importante:** Una vez finalizado el examen, marcar como completado en el classroom."
   ]
  },
  {
   "cell_type": "markdown",
   "id": "dd91f969",
   "metadata": {},
   "source": [
    "## Actividades: \n",
    "### 1. Importación del Dataset con Pandas\n",
    "\n",
    "En esta sección, se debe utilizar la librería Pandas para cargar el archivo CSV que contiene los datos de VOTACIONES en un Datasets.\n",
    "\n",
    "### 2. Exploración Inicial de los Datos\n",
    "\n",
    "A continuación, se deben emplear métodos de Pandas para obtener una visión general del dataset. \n",
    "- 2.1: Visualizar las primeras filas y ultimas.\n",
    "- 2.2: Obtener informacion del df con su metodo correspondiente.\n",
    "- 2.3: Hacer un conteo de valores nulos.\n",
    "\n",
    "### 3. Limpieza y Normalización de los Datos\n",
    "\n",
    "- 3.1. Esta etapa crucial deben aplicar la corrección de diversos errores presentes en el dataset. Se abordarán los valores faltantes (Deben aplicar los metodos que ustedes crean convenientes **(Solo 1)**, por ejemplo: Eliminación de filas, cubrir valores con media, mediana, etc.)\n",
    "- 3.2: La columna Fecha deberan pasarla al tipo datetime con su metodo correspondiente.\n",
    "- 3.3: Corregir las mayusculas en el caso de Nombre y Apellido (Si es que corresponde.)\n",
    "- 3.4: En el caso de los votos, aplicar mayusculas a cada fila.\n",
    "- 3.5 EL campo DNI debe ser del tipo INT.\n",
    "\n",
    "\n",
    "### 4. Obtención de Estadísticas Descriptivas\n",
    "\n",
    "Después de la limpieza, deben hacer lo siguiente: \n",
    "\n",
    "- 4.1: calcular nuevamente las estadísticas descriptivas para observar el impacto del proceso de limpieza en los datos numéricos.\n",
    "- 4.2: Calcular estadísticas específicas por grupo (Agrupar dos columnas).\n",
    "\n",
    "### 5. Visualización de los Datos con Matplotlib\n",
    "\n",
    "En esta sección, deben utilizar la librería Matplotlib para crear **UNA** visualización que permitan comprender mejor los datos de ventas.El grafico es a elección, puede crear **UNO** de los siguientes: histogramas, diagramas de dispersión, gráficos de barras y graficos de torta.\n",
    "\n",
    "### 6. Exportación a Archivo SQLite\n",
    "\n",
    "Finalmente, deben utilizar la funcionalidad de Pandas para guardar el DataFrame procesado en una base de datos SQLite. Deben hacer una conexión y hacer una consulta para ver si los datos fueron cargados correctamente.\n",
    "\n"
   ]
  },
  {
   "cell_type": "markdown",
   "id": "a35c8b0d",
   "metadata": {},
   "source": [
    "### Importo pandas y leo el dataset\n",
    "\n",
    "csv de votaciones"
   ]
  },
  {
   "cell_type": "code",
   "execution_count": 2,
   "id": "08a704ee",
   "metadata": {},
   "outputs": [],
   "source": [
    "import pandas as pd\n",
    "\n",
    "df = pd.read_csv(\"votaciones.csv\")"
   ]
  },
  {
   "cell_type": "markdown",
   "id": "c9f7529d",
   "metadata": {},
   "source": [
    "### Para la exploracion utilizo\n",
    "\n",
    "df.head()\n",
    "\n",
    "df.tail()\n",
    "\n",
    "df.describe()\n",
    "\n",
    "df.info()\n"
   ]
  },
  {
   "cell_type": "markdown",
   "id": "dcf9ec9c",
   "metadata": {},
   "source": [
    "Muestro las primeras 5 filas con df.head()"
   ]
  },
  {
   "cell_type": "code",
   "execution_count": 15,
   "id": "b6a64a86",
   "metadata": {},
   "outputs": [
    {
     "data": {
      "text/html": [
       "<div>\n",
       "<style scoped>\n",
       "    .dataframe tbody tr th:only-of-type {\n",
       "        vertical-align: middle;\n",
       "    }\n",
       "\n",
       "    .dataframe tbody tr th {\n",
       "        vertical-align: top;\n",
       "    }\n",
       "\n",
       "    .dataframe thead th {\n",
       "        text-align: right;\n",
       "    }\n",
       "</style>\n",
       "<table border=\"1\" class=\"dataframe\">\n",
       "  <thead>\n",
       "    <tr style=\"text-align: right;\">\n",
       "      <th></th>\n",
       "      <th>nombre</th>\n",
       "      <th>apellido</th>\n",
       "      <th>dni</th>\n",
       "      <th>provincia</th>\n",
       "      <th>voto</th>\n",
       "      <th>fecha_votacion</th>\n",
       "    </tr>\n",
       "  </thead>\n",
       "  <tbody>\n",
       "    <tr>\n",
       "      <th>0</th>\n",
       "      <td>pánfilo</td>\n",
       "      <td>pombo</td>\n",
       "      <td>34787190.0</td>\n",
       "      <td>buenos aires</td>\n",
       "      <td>nulo</td>\n",
       "      <td>2024-11-22</td>\n",
       "    </tr>\n",
       "    <tr>\n",
       "      <th>1</th>\n",
       "      <td>albina</td>\n",
       "      <td>heredia</td>\n",
       "      <td>48336819.0</td>\n",
       "      <td>santa fe</td>\n",
       "      <td>nulo</td>\n",
       "      <td>2024-04-24</td>\n",
       "    </tr>\n",
       "    <tr>\n",
       "      <th>2</th>\n",
       "      <td>NaN</td>\n",
       "      <td>solano</td>\n",
       "      <td>49179364.0</td>\n",
       "      <td>neuquen</td>\n",
       "      <td>nulo</td>\n",
       "      <td>2024-05-20</td>\n",
       "    </tr>\n",
       "    <tr>\n",
       "      <th>3</th>\n",
       "      <td>salomé</td>\n",
       "      <td>barrio</td>\n",
       "      <td>43725639.0</td>\n",
       "      <td>buenos aires</td>\n",
       "      <td>NaN</td>\n",
       "      <td>05-06-2024</td>\n",
       "    </tr>\n",
       "    <tr>\n",
       "      <th>4</th>\n",
       "      <td>matías</td>\n",
       "      <td>esteban</td>\n",
       "      <td>30599927.0</td>\n",
       "      <td>chaco</td>\n",
       "      <td>no</td>\n",
       "      <td>10-07-2023</td>\n",
       "    </tr>\n",
       "  </tbody>\n",
       "</table>\n",
       "</div>"
      ],
      "text/plain": [
       "    nombre apellido         dni     provincia  voto fecha_votacion\n",
       "0  pánfilo    pombo  34787190.0  buenos aires  nulo     2024-11-22\n",
       "1   albina  heredia  48336819.0      santa fe  nulo     2024-04-24\n",
       "2      NaN   solano  49179364.0       neuquen  nulo     2024-05-20\n",
       "3   salomé   barrio  43725639.0  buenos aires   NaN     05-06-2024\n",
       "4   matías  esteban  30599927.0         chaco    no     10-07-2023"
      ]
     },
     "execution_count": 15,
     "metadata": {},
     "output_type": "execute_result"
    }
   ],
   "source": [
    "df.head()"
   ]
  },
  {
   "cell_type": "markdown",
   "id": "ef3547dd",
   "metadata": {},
   "source": [
    "Muestro las ultimas 5 filas con df.tail()"
   ]
  },
  {
   "cell_type": "code",
   "execution_count": 4,
   "id": "e773d220",
   "metadata": {},
   "outputs": [
    {
     "data": {
      "text/html": [
       "<div>\n",
       "<style scoped>\n",
       "    .dataframe tbody tr th:only-of-type {\n",
       "        vertical-align: middle;\n",
       "    }\n",
       "\n",
       "    .dataframe tbody tr th {\n",
       "        vertical-align: top;\n",
       "    }\n",
       "\n",
       "    .dataframe thead th {\n",
       "        text-align: right;\n",
       "    }\n",
       "</style>\n",
       "<table border=\"1\" class=\"dataframe\">\n",
       "  <thead>\n",
       "    <tr style=\"text-align: right;\">\n",
       "      <th></th>\n",
       "      <th>nombre</th>\n",
       "      <th>apellido</th>\n",
       "      <th>dni</th>\n",
       "      <th>provincia</th>\n",
       "      <th>voto</th>\n",
       "      <th>fecha_votacion</th>\n",
       "    </tr>\n",
       "  </thead>\n",
       "  <tbody>\n",
       "    <tr>\n",
       "      <th>96</th>\n",
       "      <td>carla</td>\n",
       "      <td>vidal</td>\n",
       "      <td>15161718.0</td>\n",
       "      <td>misiones</td>\n",
       "      <td>nulo</td>\n",
       "      <td>2023-09-12</td>\n",
       "    </tr>\n",
       "    <tr>\n",
       "      <th>97</th>\n",
       "      <td>federico</td>\n",
       "      <td>barrios</td>\n",
       "      <td>16171819.0</td>\n",
       "      <td>neuquen</td>\n",
       "      <td>no</td>\n",
       "      <td>11-09-2023</td>\n",
       "    </tr>\n",
       "    <tr>\n",
       "      <th>98</th>\n",
       "      <td>belen</td>\n",
       "      <td>vera</td>\n",
       "      <td>17181920.0</td>\n",
       "      <td>tucuman</td>\n",
       "      <td>sí</td>\n",
       "      <td>2023-09-10</td>\n",
       "    </tr>\n",
       "    <tr>\n",
       "      <th>99</th>\n",
       "      <td>gustavo</td>\n",
       "      <td>gauna</td>\n",
       "      <td>18192021.0</td>\n",
       "      <td>santa fe</td>\n",
       "      <td>nulo</td>\n",
       "      <td>09-09-2023</td>\n",
       "    </tr>\n",
       "    <tr>\n",
       "      <th>100</th>\n",
       "      <td>rocio</td>\n",
       "      <td>avila</td>\n",
       "      <td>19202122.0</td>\n",
       "      <td>formosa</td>\n",
       "      <td>no</td>\n",
       "      <td>08-09-2023</td>\n",
       "    </tr>\n",
       "  </tbody>\n",
       "</table>\n",
       "</div>"
      ],
      "text/plain": [
       "       nombre apellido         dni provincia  voto fecha_votacion\n",
       "96      carla    vidal  15161718.0  misiones  nulo     2023-09-12\n",
       "97   federico  barrios  16171819.0   neuquen    no     11-09-2023\n",
       "98      belen     vera  17181920.0   tucuman    sí     2023-09-10\n",
       "99    gustavo    gauna  18192021.0  santa fe  nulo     09-09-2023\n",
       "100     rocio    avila  19202122.0   formosa    no     08-09-2023"
      ]
     },
     "execution_count": 4,
     "metadata": {},
     "output_type": "execute_result"
    }
   ],
   "source": [
    "df.tail()"
   ]
  },
  {
   "cell_type": "markdown",
   "id": "da11a869",
   "metadata": {},
   "source": [
    "descripcion del dataframe con df.describe(include='all')"
   ]
  },
  {
   "cell_type": "code",
   "execution_count": 8,
   "id": "17b17625",
   "metadata": {},
   "outputs": [
    {
     "data": {
      "text/html": [
       "<div>\n",
       "<style scoped>\n",
       "    .dataframe tbody tr th:only-of-type {\n",
       "        vertical-align: middle;\n",
       "    }\n",
       "\n",
       "    .dataframe tbody tr th {\n",
       "        vertical-align: top;\n",
       "    }\n",
       "\n",
       "    .dataframe thead th {\n",
       "        text-align: right;\n",
       "    }\n",
       "</style>\n",
       "<table border=\"1\" class=\"dataframe\">\n",
       "  <thead>\n",
       "    <tr style=\"text-align: right;\">\n",
       "      <th></th>\n",
       "      <th>nombre</th>\n",
       "      <th>apellido</th>\n",
       "      <th>dni</th>\n",
       "      <th>provincia</th>\n",
       "      <th>voto</th>\n",
       "      <th>fecha_votacion</th>\n",
       "    </tr>\n",
       "  </thead>\n",
       "  <tbody>\n",
       "    <tr>\n",
       "      <th>count</th>\n",
       "      <td>91</td>\n",
       "      <td>94</td>\n",
       "      <td>9.000000e+01</td>\n",
       "      <td>95</td>\n",
       "      <td>96</td>\n",
       "      <td>95</td>\n",
       "    </tr>\n",
       "    <tr>\n",
       "      <th>unique</th>\n",
       "      <td>90</td>\n",
       "      <td>92</td>\n",
       "      <td>NaN</td>\n",
       "      <td>12</td>\n",
       "      <td>3</td>\n",
       "      <td>91</td>\n",
       "    </tr>\n",
       "    <tr>\n",
       "      <th>top</th>\n",
       "      <td>lucas</td>\n",
       "      <td>sosa</td>\n",
       "      <td>NaN</td>\n",
       "      <td>neuquen</td>\n",
       "      <td>no</td>\n",
       "      <td>23-09-2023</td>\n",
       "    </tr>\n",
       "    <tr>\n",
       "      <th>freq</th>\n",
       "      <td>2</td>\n",
       "      <td>2</td>\n",
       "      <td>NaN</td>\n",
       "      <td>13</td>\n",
       "      <td>33</td>\n",
       "      <td>2</td>\n",
       "    </tr>\n",
       "    <tr>\n",
       "      <th>mean</th>\n",
       "      <td>NaN</td>\n",
       "      <td>NaN</td>\n",
       "      <td>3.864910e+07</td>\n",
       "      <td>NaN</td>\n",
       "      <td>NaN</td>\n",
       "      <td>NaN</td>\n",
       "    </tr>\n",
       "    <tr>\n",
       "      <th>std</th>\n",
       "      <td>NaN</td>\n",
       "      <td>NaN</td>\n",
       "      <td>2.400198e+07</td>\n",
       "      <td>NaN</td>\n",
       "      <td>NaN</td>\n",
       "      <td>NaN</td>\n",
       "    </tr>\n",
       "    <tr>\n",
       "      <th>min</th>\n",
       "      <td>NaN</td>\n",
       "      <td>NaN</td>\n",
       "      <td>1.011121e+07</td>\n",
       "      <td>NaN</td>\n",
       "      <td>NaN</td>\n",
       "      <td>NaN</td>\n",
       "    </tr>\n",
       "    <tr>\n",
       "      <th>25%</th>\n",
       "      <td>NaN</td>\n",
       "      <td>NaN</td>\n",
       "      <td>1.982167e+07</td>\n",
       "      <td>NaN</td>\n",
       "      <td>NaN</td>\n",
       "      <td>NaN</td>\n",
       "    </tr>\n",
       "    <tr>\n",
       "      <th>50%</th>\n",
       "      <td>NaN</td>\n",
       "      <td>NaN</td>\n",
       "      <td>3.319309e+07</td>\n",
       "      <td>NaN</td>\n",
       "      <td>NaN</td>\n",
       "      <td>NaN</td>\n",
       "    </tr>\n",
       "    <tr>\n",
       "      <th>75%</th>\n",
       "      <td>NaN</td>\n",
       "      <td>NaN</td>\n",
       "      <td>4.886738e+07</td>\n",
       "      <td>NaN</td>\n",
       "      <td>NaN</td>\n",
       "      <td>NaN</td>\n",
       "    </tr>\n",
       "    <tr>\n",
       "      <th>max</th>\n",
       "      <td>NaN</td>\n",
       "      <td>NaN</td>\n",
       "      <td>9.900112e+07</td>\n",
       "      <td>NaN</td>\n",
       "      <td>NaN</td>\n",
       "      <td>NaN</td>\n",
       "    </tr>\n",
       "  </tbody>\n",
       "</table>\n",
       "</div>"
      ],
      "text/plain": [
       "       nombre apellido           dni provincia voto fecha_votacion\n",
       "count      91       94  9.000000e+01        95   96             95\n",
       "unique     90       92           NaN        12    3             91\n",
       "top     lucas     sosa           NaN   neuquen   no     23-09-2023\n",
       "freq        2        2           NaN        13   33              2\n",
       "mean      NaN      NaN  3.864910e+07       NaN  NaN            NaN\n",
       "std       NaN      NaN  2.400198e+07       NaN  NaN            NaN\n",
       "min       NaN      NaN  1.011121e+07       NaN  NaN            NaN\n",
       "25%       NaN      NaN  1.982167e+07       NaN  NaN            NaN\n",
       "50%       NaN      NaN  3.319309e+07       NaN  NaN            NaN\n",
       "75%       NaN      NaN  4.886738e+07       NaN  NaN            NaN\n",
       "max       NaN      NaN  9.900112e+07       NaN  NaN            NaN"
      ]
     },
     "execution_count": 8,
     "metadata": {},
     "output_type": "execute_result"
    }
   ],
   "source": [
    "df.describe(include='all')"
   ]
  },
  {
   "cell_type": "markdown",
   "id": "2ed994cb",
   "metadata": {},
   "source": [
    "informacion del dataframe df.info()"
   ]
  },
  {
   "cell_type": "code",
   "execution_count": 7,
   "id": "801b56e5",
   "metadata": {},
   "outputs": [
    {
     "name": "stdout",
     "output_type": "stream",
     "text": [
      "<class 'pandas.core.frame.DataFrame'>\n",
      "RangeIndex: 101 entries, 0 to 100\n",
      "Data columns (total 6 columns):\n",
      " #   Column          Non-Null Count  Dtype  \n",
      "---  ------          --------------  -----  \n",
      " 0   nombre          91 non-null     object \n",
      " 1   apellido        94 non-null     object \n",
      " 2   dni             90 non-null     float64\n",
      " 3   provincia       95 non-null     object \n",
      " 4   voto            96 non-null     object \n",
      " 5   fecha_votacion  95 non-null     object \n",
      "dtypes: float64(1), object(5)\n",
      "memory usage: 4.9+ KB\n"
     ]
    }
   ],
   "source": [
    "df.info()"
   ]
  },
  {
   "cell_type": "markdown",
   "id": "f4c14f06",
   "metadata": {},
   "source": [
    "Hago conteo de valores nulos con df.isnull().sum()"
   ]
  },
  {
   "cell_type": "code",
   "execution_count": null,
   "id": "b0ff8820",
   "metadata": {},
   "outputs": [
    {
     "data": {
      "text/plain": [
       "nombre            10\n",
       "apellido           7\n",
       "dni               11\n",
       "provincia          6\n",
       "voto               5\n",
       "fecha_votacion     6\n",
       "dtype: int64"
      ]
     },
     "execution_count": 10,
     "metadata": {},
     "output_type": "execute_result"
    }
   ],
   "source": [
    "df.isnull().sum()"
   ]
  },
  {
   "cell_type": "markdown",
   "id": "52893a30",
   "metadata": {},
   "source": [
    "### Limpieza y normalizacion"
   ]
  },
  {
   "cell_type": "markdown",
   "id": "21b52ab6",
   "metadata": {},
   "source": [
    "Elimino las filas con los valores nulos"
   ]
  },
  {
   "cell_type": "code",
   "execution_count": 12,
   "id": "640d84b1",
   "metadata": {},
   "outputs": [],
   "source": [
    "df_dropna = df.dropna()"
   ]
  },
  {
   "cell_type": "code",
   "execution_count": 18,
   "id": "3132f809",
   "metadata": {},
   "outputs": [
    {
     "data": {
      "text/html": [
       "<div>\n",
       "<style scoped>\n",
       "    .dataframe tbody tr th:only-of-type {\n",
       "        vertical-align: middle;\n",
       "    }\n",
       "\n",
       "    .dataframe tbody tr th {\n",
       "        vertical-align: top;\n",
       "    }\n",
       "\n",
       "    .dataframe thead th {\n",
       "        text-align: right;\n",
       "    }\n",
       "</style>\n",
       "<table border=\"1\" class=\"dataframe\">\n",
       "  <thead>\n",
       "    <tr style=\"text-align: right;\">\n",
       "      <th></th>\n",
       "      <th>nombre</th>\n",
       "      <th>apellido</th>\n",
       "      <th>dni</th>\n",
       "      <th>provincia</th>\n",
       "      <th>voto</th>\n",
       "      <th>fecha_votacion</th>\n",
       "    </tr>\n",
       "  </thead>\n",
       "  <tbody>\n",
       "    <tr>\n",
       "      <th>0</th>\n",
       "      <td>Pánfilo</td>\n",
       "      <td>Pombo</td>\n",
       "      <td>34787190.0</td>\n",
       "      <td>buenos aires</td>\n",
       "      <td>nulo</td>\n",
       "      <td>2024-11-22</td>\n",
       "    </tr>\n",
       "    <tr>\n",
       "      <th>1</th>\n",
       "      <td>Albina</td>\n",
       "      <td>Heredia</td>\n",
       "      <td>48336819.0</td>\n",
       "      <td>santa fe</td>\n",
       "      <td>nulo</td>\n",
       "      <td>2024-04-24</td>\n",
       "    </tr>\n",
       "    <tr>\n",
       "      <th>4</th>\n",
       "      <td>Matías</td>\n",
       "      <td>Esteban</td>\n",
       "      <td>30599927.0</td>\n",
       "      <td>chaco</td>\n",
       "      <td>no</td>\n",
       "      <td>10-07-2023</td>\n",
       "    </tr>\n",
       "    <tr>\n",
       "      <th>6</th>\n",
       "      <td>Gervasio</td>\n",
       "      <td>Bou</td>\n",
       "      <td>33761658.0</td>\n",
       "      <td>mendoza</td>\n",
       "      <td>no</td>\n",
       "      <td>23-09-2023</td>\n",
       "    </tr>\n",
       "    <tr>\n",
       "      <th>7</th>\n",
       "      <td>Brígida</td>\n",
       "      <td>Angulo</td>\n",
       "      <td>22169546.0</td>\n",
       "      <td>chaco</td>\n",
       "      <td>no</td>\n",
       "      <td>2024-05-02</td>\n",
       "    </tr>\n",
       "  </tbody>\n",
       "</table>\n",
       "</div>"
      ],
      "text/plain": [
       "     nombre apellido         dni     provincia  voto fecha_votacion\n",
       "0   Pánfilo    Pombo  34787190.0  buenos aires  nulo     2024-11-22\n",
       "1    Albina  Heredia  48336819.0      santa fe  nulo     2024-04-24\n",
       "4    Matías  Esteban  30599927.0         chaco    no     10-07-2023\n",
       "6  Gervasio      Bou  33761658.0       mendoza    no     23-09-2023\n",
       "7   Brígida   Angulo  22169546.0         chaco    no     2024-05-02"
      ]
     },
     "execution_count": 18,
     "metadata": {},
     "output_type": "execute_result"
    }
   ],
   "source": [
    "df_dropna.head()"
   ]
  },
  {
   "cell_type": "markdown",
   "id": "3fc47b8d",
   "metadata": {},
   "source": [
    "Pongo mayusculas a nombre y apellido"
   ]
  },
  {
   "cell_type": "code",
   "execution_count": 17,
   "id": "fbc7cf58",
   "metadata": {},
   "outputs": [
    {
     "name": "stderr",
     "output_type": "stream",
     "text": [
      "C:\\Users\\IPF-2025\\AppData\\Local\\Temp\\ipykernel_3536\\3830378292.py:1: SettingWithCopyWarning: \n",
      "A value is trying to be set on a copy of a slice from a DataFrame.\n",
      "Try using .loc[row_indexer,col_indexer] = value instead\n",
      "\n",
      "See the caveats in the documentation: https://pandas.pydata.org/pandas-docs/stable/user_guide/indexing.html#returning-a-view-versus-a-copy\n",
      "  df_dropna[\"nombre\"] = df_dropna[\"nombre\"].str.title()\n",
      "C:\\Users\\IPF-2025\\AppData\\Local\\Temp\\ipykernel_3536\\3830378292.py:3: SettingWithCopyWarning: \n",
      "A value is trying to be set on a copy of a slice from a DataFrame.\n",
      "Try using .loc[row_indexer,col_indexer] = value instead\n",
      "\n",
      "See the caveats in the documentation: https://pandas.pydata.org/pandas-docs/stable/user_guide/indexing.html#returning-a-view-versus-a-copy\n",
      "  df_dropna[\"apellido\"] = df_dropna[\"apellido\"].str.title()\n"
     ]
    }
   ],
   "source": [
    "df_dropna[\"nombre\"] = df_dropna[\"nombre\"].str.title()\n",
    "\n",
    "df_dropna[\"apellido\"] = df_dropna[\"apellido\"].str.title()"
   ]
  },
  {
   "cell_type": "markdown",
   "id": "47bf1a8d",
   "metadata": {},
   "source": [
    "aplique mayusculas a cada fila de voto"
   ]
  },
  {
   "cell_type": "code",
   "execution_count": 19,
   "id": "0719b2ce",
   "metadata": {},
   "outputs": [
    {
     "name": "stderr",
     "output_type": "stream",
     "text": [
      "C:\\Users\\IPF-2025\\AppData\\Local\\Temp\\ipykernel_3536\\2657808568.py:1: SettingWithCopyWarning: \n",
      "A value is trying to be set on a copy of a slice from a DataFrame.\n",
      "Try using .loc[row_indexer,col_indexer] = value instead\n",
      "\n",
      "See the caveats in the documentation: https://pandas.pydata.org/pandas-docs/stable/user_guide/indexing.html#returning-a-view-versus-a-copy\n",
      "  df_dropna[\"voto\"] = df_dropna[\"voto\"].str.title()\n"
     ]
    }
   ],
   "source": [
    "df_dropna[\"voto\"] = df_dropna[\"voto\"].str.title()"
   ]
  },
  {
   "cell_type": "markdown",
   "id": "c02ad351",
   "metadata": {},
   "source": [
    "cambio el valor de dni a int"
   ]
  },
  {
   "cell_type": "code",
   "execution_count": 20,
   "id": "e83657a6",
   "metadata": {},
   "outputs": [
    {
     "name": "stderr",
     "output_type": "stream",
     "text": [
      "C:\\Users\\IPF-2025\\AppData\\Local\\Temp\\ipykernel_3536\\824630432.py:1: SettingWithCopyWarning: \n",
      "A value is trying to be set on a copy of a slice from a DataFrame.\n",
      "Try using .loc[row_indexer,col_indexer] = value instead\n",
      "\n",
      "See the caveats in the documentation: https://pandas.pydata.org/pandas-docs/stable/user_guide/indexing.html#returning-a-view-versus-a-copy\n",
      "  df_dropna[\"dni\"] = df_dropna[\"dni\"].astype(int)\n"
     ]
    }
   ],
   "source": [
    "df_dropna[\"dni\"] = df_dropna[\"dni\"].astype(int)"
   ]
  },
  {
   "cell_type": "markdown",
   "id": "bbb78a02",
   "metadata": {},
   "source": [
    "paso a datetime con series"
   ]
  },
  {
   "cell_type": "code",
   "execution_count": 21,
   "id": "ea18d30d",
   "metadata": {},
   "outputs": [
    {
     "name": "stdout",
     "output_type": "stream",
     "text": [
      "0     2024-11-22\n",
      "1     2024-04-24\n",
      "4     2023-07-10\n",
      "6     2023-09-23\n",
      "7     2024-05-02\n",
      "         ...    \n",
      "96    2023-09-12\n",
      "97    2023-09-11\n",
      "98    2023-09-10\n",
      "99    2023-09-09\n",
      "100   2023-09-08\n",
      "Name: fecha_votacion, Length: 63, dtype: datetime64[ns]\n"
     ]
    }
   ],
   "source": [
    "fechas = df_dropna[\"fecha_votacion\"]\n",
    "\n",
    "serie = pd.Series(fechas)\n",
    "\n",
    "fecha_formato_1 = pd.to_datetime(fechas, format=\"%Y-%m-%d\", errors=\"coerce\")\n",
    "fecha_formato_2 = pd.to_datetime(fechas, format=\"%d-%m-%Y\", errors=\"coerce\")\n",
    "\n",
    "fechas_final = fecha_formato_1.combine_first(fecha_formato_2)\n",
    "\n",
    "print(fechas_final)"
   ]
  },
  {
   "cell_type": "markdown",
   "id": "8010cf10",
   "metadata": {},
   "source": [
    "### Estadisticas descriptivas"
   ]
  },
  {
   "cell_type": "markdown",
   "id": "1e9d7066",
   "metadata": {},
   "source": [
    "informacion del dataframe"
   ]
  },
  {
   "cell_type": "code",
   "execution_count": 22,
   "id": "926156f3",
   "metadata": {},
   "outputs": [
    {
     "name": "stdout",
     "output_type": "stream",
     "text": [
      "<class 'pandas.core.frame.DataFrame'>\n",
      "Index: 63 entries, 0 to 100\n",
      "Data columns (total 6 columns):\n",
      " #   Column          Non-Null Count  Dtype \n",
      "---  ------          --------------  ----- \n",
      " 0   nombre          63 non-null     object\n",
      " 1   apellido        63 non-null     object\n",
      " 2   dni             63 non-null     int64 \n",
      " 3   provincia       63 non-null     object\n",
      " 4   voto            63 non-null     object\n",
      " 5   fecha_votacion  63 non-null     object\n",
      "dtypes: int64(1), object(5)\n",
      "memory usage: 3.4+ KB\n"
     ]
    }
   ],
   "source": [
    "df_dropna.info()"
   ]
  },
  {
   "cell_type": "code",
   "execution_count": 23,
   "id": "902a8ffa",
   "metadata": {},
   "outputs": [
    {
     "data": {
      "text/html": [
       "<div>\n",
       "<style scoped>\n",
       "    .dataframe tbody tr th:only-of-type {\n",
       "        vertical-align: middle;\n",
       "    }\n",
       "\n",
       "    .dataframe tbody tr th {\n",
       "        vertical-align: top;\n",
       "    }\n",
       "\n",
       "    .dataframe thead th {\n",
       "        text-align: right;\n",
       "    }\n",
       "</style>\n",
       "<table border=\"1\" class=\"dataframe\">\n",
       "  <thead>\n",
       "    <tr style=\"text-align: right;\">\n",
       "      <th></th>\n",
       "      <th>nombre</th>\n",
       "      <th>apellido</th>\n",
       "      <th>dni</th>\n",
       "      <th>provincia</th>\n",
       "      <th>voto</th>\n",
       "      <th>fecha_votacion</th>\n",
       "    </tr>\n",
       "  </thead>\n",
       "  <tbody>\n",
       "    <tr>\n",
       "      <th>count</th>\n",
       "      <td>63</td>\n",
       "      <td>63</td>\n",
       "      <td>6.300000e+01</td>\n",
       "      <td>63</td>\n",
       "      <td>63</td>\n",
       "      <td>63</td>\n",
       "    </tr>\n",
       "    <tr>\n",
       "      <th>unique</th>\n",
       "      <td>62</td>\n",
       "      <td>63</td>\n",
       "      <td>NaN</td>\n",
       "      <td>12</td>\n",
       "      <td>3</td>\n",
       "      <td>61</td>\n",
       "    </tr>\n",
       "    <tr>\n",
       "      <th>top</th>\n",
       "      <td>Lucas</td>\n",
       "      <td>Pombo</td>\n",
       "      <td>NaN</td>\n",
       "      <td>santa fe</td>\n",
       "      <td>No</td>\n",
       "      <td>23-09-2023</td>\n",
       "    </tr>\n",
       "    <tr>\n",
       "      <th>freq</th>\n",
       "      <td>2</td>\n",
       "      <td>1</td>\n",
       "      <td>NaN</td>\n",
       "      <td>9</td>\n",
       "      <td>26</td>\n",
       "      <td>2</td>\n",
       "    </tr>\n",
       "    <tr>\n",
       "      <th>mean</th>\n",
       "      <td>NaN</td>\n",
       "      <td>NaN</td>\n",
       "      <td>3.922507e+07</td>\n",
       "      <td>NaN</td>\n",
       "      <td>NaN</td>\n",
       "      <td>NaN</td>\n",
       "    </tr>\n",
       "    <tr>\n",
       "      <th>std</th>\n",
       "      <td>NaN</td>\n",
       "      <td>NaN</td>\n",
       "      <td>2.512993e+07</td>\n",
       "      <td>NaN</td>\n",
       "      <td>NaN</td>\n",
       "      <td>NaN</td>\n",
       "    </tr>\n",
       "    <tr>\n",
       "      <th>min</th>\n",
       "      <td>NaN</td>\n",
       "      <td>NaN</td>\n",
       "      <td>1.011121e+07</td>\n",
       "      <td>NaN</td>\n",
       "      <td>NaN</td>\n",
       "      <td>NaN</td>\n",
       "    </tr>\n",
       "    <tr>\n",
       "      <th>25%</th>\n",
       "      <td>NaN</td>\n",
       "      <td>NaN</td>\n",
       "      <td>1.833241e+07</td>\n",
       "      <td>NaN</td>\n",
       "      <td>NaN</td>\n",
       "      <td>NaN</td>\n",
       "    </tr>\n",
       "    <tr>\n",
       "      <th>50%</th>\n",
       "      <td>NaN</td>\n",
       "      <td>NaN</td>\n",
       "      <td>3.344557e+07</td>\n",
       "      <td>NaN</td>\n",
       "      <td>NaN</td>\n",
       "      <td>NaN</td>\n",
       "    </tr>\n",
       "    <tr>\n",
       "      <th>75%</th>\n",
       "      <td>NaN</td>\n",
       "      <td>NaN</td>\n",
       "      <td>5.235601e+07</td>\n",
       "      <td>NaN</td>\n",
       "      <td>NaN</td>\n",
       "      <td>NaN</td>\n",
       "    </tr>\n",
       "    <tr>\n",
       "      <th>max</th>\n",
       "      <td>NaN</td>\n",
       "      <td>NaN</td>\n",
       "      <td>9.900112e+07</td>\n",
       "      <td>NaN</td>\n",
       "      <td>NaN</td>\n",
       "      <td>NaN</td>\n",
       "    </tr>\n",
       "  </tbody>\n",
       "</table>\n",
       "</div>"
      ],
      "text/plain": [
       "       nombre apellido           dni provincia voto fecha_votacion\n",
       "count      63       63  6.300000e+01        63   63             63\n",
       "unique     62       63           NaN        12    3             61\n",
       "top     Lucas    Pombo           NaN  santa fe   No     23-09-2023\n",
       "freq        2        1           NaN         9   26              2\n",
       "mean      NaN      NaN  3.922507e+07       NaN  NaN            NaN\n",
       "std       NaN      NaN  2.512993e+07       NaN  NaN            NaN\n",
       "min       NaN      NaN  1.011121e+07       NaN  NaN            NaN\n",
       "25%       NaN      NaN  1.833241e+07       NaN  NaN            NaN\n",
       "50%       NaN      NaN  3.344557e+07       NaN  NaN            NaN\n",
       "75%       NaN      NaN  5.235601e+07       NaN  NaN            NaN\n",
       "max       NaN      NaN  9.900112e+07       NaN  NaN            NaN"
      ]
     },
     "execution_count": 23,
     "metadata": {},
     "output_type": "execute_result"
    }
   ],
   "source": [
    "df_dropna.describe(include=\"all\")"
   ]
  },
  {
   "cell_type": "markdown",
   "id": "afed53c0",
   "metadata": {},
   "source": [
    "### visualizacion de datos"
   ]
  },
  {
   "cell_type": "markdown",
   "id": "1e74a522",
   "metadata": {},
   "source": [
    "votos que hicieron por provincia"
   ]
  },
  {
   "cell_type": "code",
   "execution_count": 47,
   "id": "4d7fae9c",
   "metadata": {},
   "outputs": [
    {
     "data": {
      "image/png": "[encoded data removed]",
      "text/plain": [
       "<Figure size 900x400 with 1 Axes>"
      ]
     },
     "metadata": {},
     "output_type": "display_data"
    }
   ],
   "source": [
    "import matplotlib.pyplot as plt\n",
    "\n",
    "Provincia = df_dropna[\"provincia\"].head(15)\n",
    "Votos = df_dropna[\"voto\"].head(15)\n",
    "\n",
    "plt.figure(figsize=(9,4))\n",
    "plt.bar(Provincia, Votos, color=\"blue\")\n",
    "plt.xlabel(\"Provincias\", fontsize=12)\n",
    "plt.ylabel(\"Votos\", fontsize=18)\n",
    "plt.tick_params(axis=\"both\", labelsize=10)\n",
    "plt.ylim(0,4)\n",
    "\n",
    "plt.show()\n",
    "\n"
   ]
  }
 ],
 "metadata": {
  "kernelspec": {
   "display_name": ".venv",
   "language": "python",
   "name": "python3"
  },
  "language_info": {
   "codemirror_mode": {
    "name": "ipython",
    "version": 3
   },
   "file_extension": ".py",
   "mimetype": "text/x-python",
   "name": "python",
   "nbconvert_exporter": "python",
   "pygments_lexer": "ipython3",
   "version": "3.13.2"
  }
 },
 "nbformat": 4,
 "nbformat_minor": 5
}
